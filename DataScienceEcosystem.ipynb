{
 "cells": [
  {
   "cell_type": "markdown",
   "id": "3800ad7b-96dc-4280-ad06-b2443f82175e",
   "metadata": {},
   "source": [
    "# Data Science Tools and Ecosystem\n",
    "\n",
    "## Author\n",
    "## William Green Musselman"
   ]
  },
  {
   "cell_type": "markdown",
   "id": "6a9a257d-b63e-495b-83c5-d34d2fd81c99",
   "metadata": {},
   "source": [
    "In this notebook, Data Science Tools and Ecosystem are summarized. We will work with Jupyterhub R markdown to display data science."
   ]
  },
  {
   "cell_type": "markdown",
   "id": "111c2940-90f2-4020-acc1-6b8ca0acd089",
   "metadata": {},
   "source": [
    "**Objectives:**\n",
    "\n",
    "- Develop proficiency with github and git\n",
    "- Work with Jupyterhub notebooks in R/Python \n",
    "- Learn about popular languages"
   ]
  },
  {
   "cell_type": "markdown",
   "id": "f14e3d6a-9773-4b0d-bd8e-b24ff63ce562",
   "metadata": {},
   "source": [
    "Some of the popular languages that Data Scientists use are:\n",
    "\n",
    "1. Python\n",
    "2. R\n",
    "3. SQL"
   ]
  },
  {
   "cell_type": "markdown",
   "id": "dd29c5ed-264c-4413-99b7-6bd8906e5c0a",
   "metadata": {
    "tags": []
   },
   "source": [
    "Some of the popular databases that Data Scientists use are:\n",
    "\n",
    "1. Numpy\n",
    "2. Pytorch\n",
    "3. Pandas"
   ]
  },
  {
   "cell_type": "markdown",
   "id": "d966c2ca-1792-4409-b967-82b546dc3951",
   "metadata": {
    "tags": []
   },
   "source": [
    "| Data Science Tools |\n",
    "|--------------------|\n",
    "| Google Colab  |\n",
    "| RStudio            |\n",
    "| Spyder |"
   ]
  },
  {
   "cell_type": "markdown",
   "id": "442f1305-d85a-4964-ac0d-c373686bc719",
   "metadata": {},
   "source": [
    "### Below are a few examples of evaluating arithmetic expressions in Python.\n"
   ]
  },
  {
   "cell_type": "code",
   "execution_count": 2,
   "id": "c0924370-3ee8-447d-954b-07e44e7b8fdd",
   "metadata": {
    "tags": []
   },
   "outputs": [
    {
     "data": {
      "text/plain": [
       "17"
      ]
     },
     "execution_count": 2,
     "metadata": {},
     "output_type": "execute_result"
    }
   ],
   "source": [
    "#This a simple arithmetic expression to mutiply then add integers.\n",
    "(3*4)+5\n"
   ]
  },
  {
   "cell_type": "code",
   "execution_count": 3,
   "id": "0e703cdc-ce70-4745-8d57-9f5b3fe1c868",
   "metadata": {
    "tags": []
   },
   "outputs": [
    {
     "name": "stdout",
     "output_type": "stream",
     "text": [
      "12000\n"
     ]
    }
   ],
   "source": [
    "#This will convert 200 minutes to hours by diving by 60\n",
    "minutes = 200\n",
    "hours = minutes*60\n",
    "print(hours)"
   ]
  },
  {
   "cell_type": "code",
   "execution_count": null,
   "id": "c514836f-6531-4cd0-b0a9-e3cac1e15989",
   "metadata": {},
   "outputs": [],
   "source": []
  }
 ],
 "metadata": {
  "kernelspec": {
   "display_name": "Python",
   "language": "python",
   "name": "conda-env-python-py"
  },
  "language_info": {
   "codemirror_mode": {
    "name": "ipython",
    "version": 3
   },
   "file_extension": ".py",
   "mimetype": "text/x-python",
   "name": "python",
   "nbconvert_exporter": "python",
   "pygments_lexer": "ipython3",
   "version": "3.7.12"
  }
 },
 "nbformat": 4,
 "nbformat_minor": 5
}
